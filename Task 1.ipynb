{
 "cells": [
  {
   "cell_type": "markdown",
   "metadata": {},
   "source": [
    "Task 1 - Prediciton using Supervised ML\n",
    "\n",
    "Predict the percentage of a student given the study hours. This is a simple regression in two variables.\n",
    "\n",
    <font size="5">Poulu Prinoon Joseph</font>
   ]
  },
  {
   "cell_type": "code",
   "execution_count": 1,
   "metadata": {},
   "outputs": [],
   "source": [
    "# Importying required libraries\n",
    "import pandas as pd\n",
    "import numpy as np\n",
    "import matplotlib.pyplot as plt  \n",
    "%matplotlib inline"
   ]
  },
  {
   "cell_type": "code",
   "execution_count": 2,
   "metadata": {},
   "outputs": [
    {
     "name": "stdout",
     "output_type": "stream",
     "text": [
      "Data imported successfully\n"
     ]
    },
    {
     "data": {
      "text/html": [
       "<div>\n",
       "<style scoped>\n",
       "    .dataframe tbody tr th:only-of-type {\n",
       "        vertical-align: middle;\n",
       "    }\n",
       "\n",
       "    .dataframe tbody tr th {\n",
       "        vertical-align: top;\n",
       "    }\n",
       "\n",
       "    .dataframe thead th {\n",
       "        text-align: right;\n",
       "    }\n",
       "</style>\n",
       "<table border=\"1\" class=\"dataframe\">\n",
       "  <thead>\n",
       "    <tr style=\"text-align: right;\">\n",
       "      <th></th>\n",
       "      <th>Hours</th>\n",
       "      <th>Scores</th>\n",
       "    </tr>\n",
       "  </thead>\n",
       "  <tbody>\n",
       "    <tr>\n",
       "      <th>0</th>\n",
       "      <td>2.5</td>\n",
       "      <td>21</td>\n",
       "    </tr>\n",
       "    <tr>\n",
       "      <th>1</th>\n",
       "      <td>5.1</td>\n",
       "      <td>47</td>\n",
       "    </tr>\n",
       "    <tr>\n",
       "      <th>2</th>\n",
       "      <td>3.2</td>\n",
       "      <td>27</td>\n",
       "    </tr>\n",
       "    <tr>\n",
       "      <th>3</th>\n",
       "      <td>8.5</td>\n",
       "      <td>75</td>\n",
       "    </tr>\n",
       "    <tr>\n",
       "      <th>4</th>\n",
       "      <td>3.5</td>\n",
       "      <td>30</td>\n",
       "    </tr>\n",
       "  </tbody>\n",
       "</table>\n",
       "</div>"
      ],
      "text/plain": [
       "   Hours  Scores\n",
       "0    2.5      21\n",
       "1    5.1      47\n",
       "2    3.2      27\n",
       "3    8.5      75\n",
       "4    3.5      30"
      ]
     },
     "execution_count": 2,
     "metadata": {},
     "output_type": "execute_result"
    }
   ],
   "source": [
    "# Reading the data\n",
    "\n",
    "url = \"http://bit.ly/w-data\"\n",
    "dataFrame = pd.read_csv(url)\n",
    "print(\"Data imported successfully\")\n",
    "\n",
    "# Checking if the data is imported correctly\n",
    "dataFrame.head(5)"
   ]
  },
  {
   "cell_type": "code",
   "execution_count": 3,
   "metadata": {},
   "outputs": [
    {
     "data": {
      "text/html": [
       "<div>\n",
       "<style scoped>\n",
       "    .dataframe tbody tr th:only-of-type {\n",
       "        vertical-align: middle;\n",
       "    }\n",
       "\n",
       "    .dataframe tbody tr th {\n",
       "        vertical-align: top;\n",
       "    }\n",
       "\n",
       "    .dataframe thead th {\n",
       "        text-align: right;\n",
       "    }\n",
       "</style>\n",
       "<table border=\"1\" class=\"dataframe\">\n",
       "  <thead>\n",
       "    <tr style=\"text-align: right;\">\n",
       "      <th></th>\n",
       "      <th>Hours</th>\n",
       "      <th>Scores</th>\n",
       "    </tr>\n",
       "  </thead>\n",
       "  <tbody>\n",
       "    <tr>\n",
       "      <th>15</th>\n",
       "      <td>8.9</td>\n",
       "      <td>95</td>\n",
       "    </tr>\n",
       "    <tr>\n",
       "      <th>6</th>\n",
       "      <td>9.2</td>\n",
       "      <td>88</td>\n",
       "    </tr>\n",
       "    <tr>\n",
       "      <th>24</th>\n",
       "      <td>7.8</td>\n",
       "      <td>86</td>\n",
       "    </tr>\n",
       "    <tr>\n",
       "      <th>10</th>\n",
       "      <td>7.7</td>\n",
       "      <td>85</td>\n",
       "    </tr>\n",
       "    <tr>\n",
       "      <th>8</th>\n",
       "      <td>8.3</td>\n",
       "      <td>81</td>\n",
       "    </tr>\n",
       "    <tr>\n",
       "      <th>23</th>\n",
       "      <td>6.9</td>\n",
       "      <td>76</td>\n",
       "    </tr>\n",
       "    <tr>\n",
       "      <th>3</th>\n",
       "      <td>8.5</td>\n",
       "      <td>75</td>\n",
       "    </tr>\n",
       "    <tr>\n",
       "      <th>19</th>\n",
       "      <td>7.4</td>\n",
       "      <td>69</td>\n",
       "    </tr>\n",
       "    <tr>\n",
       "      <th>18</th>\n",
       "      <td>6.1</td>\n",
       "      <td>67</td>\n",
       "    </tr>\n",
       "    <tr>\n",
       "      <th>11</th>\n",
       "      <td>5.9</td>\n",
       "      <td>62</td>\n",
       "    </tr>\n",
       "    <tr>\n",
       "      <th>7</th>\n",
       "      <td>5.5</td>\n",
       "      <td>60</td>\n",
       "    </tr>\n",
       "    <tr>\n",
       "      <th>21</th>\n",
       "      <td>4.8</td>\n",
       "      <td>54</td>\n",
       "    </tr>\n",
       "    <tr>\n",
       "      <th>1</th>\n",
       "      <td>5.1</td>\n",
       "      <td>47</td>\n",
       "    </tr>\n",
       "    <tr>\n",
       "      <th>13</th>\n",
       "      <td>3.3</td>\n",
       "      <td>42</td>\n",
       "    </tr>\n",
       "    <tr>\n",
       "      <th>12</th>\n",
       "      <td>4.5</td>\n",
       "      <td>41</td>\n",
       "    </tr>\n",
       "    <tr>\n",
       "      <th>22</th>\n",
       "      <td>3.8</td>\n",
       "      <td>35</td>\n",
       "    </tr>\n",
       "    <tr>\n",
       "      <th>16</th>\n",
       "      <td>2.5</td>\n",
       "      <td>30</td>\n",
       "    </tr>\n",
       "    <tr>\n",
       "      <th>20</th>\n",
       "      <td>2.7</td>\n",
       "      <td>30</td>\n",
       "    </tr>\n",
       "    <tr>\n",
       "      <th>4</th>\n",
       "      <td>3.5</td>\n",
       "      <td>30</td>\n",
       "    </tr>\n",
       "    <tr>\n",
       "      <th>2</th>\n",
       "      <td>3.2</td>\n",
       "      <td>27</td>\n",
       "    </tr>\n",
       "    <tr>\n",
       "      <th>9</th>\n",
       "      <td>2.7</td>\n",
       "      <td>25</td>\n",
       "    </tr>\n",
       "    <tr>\n",
       "      <th>17</th>\n",
       "      <td>1.9</td>\n",
       "      <td>24</td>\n",
       "    </tr>\n",
       "    <tr>\n",
       "      <th>0</th>\n",
       "      <td>2.5</td>\n",
       "      <td>21</td>\n",
       "    </tr>\n",
       "    <tr>\n",
       "      <th>5</th>\n",
       "      <td>1.5</td>\n",
       "      <td>20</td>\n",
       "    </tr>\n",
       "    <tr>\n",
       "      <th>14</th>\n",
       "      <td>1.1</td>\n",
       "      <td>17</td>\n",
       "    </tr>\n",
       "  </tbody>\n",
       "</table>\n",
       "</div>"
      ],
      "text/plain": [
       "    Hours  Scores\n",
       "15    8.9      95\n",
       "6     9.2      88\n",
       "24    7.8      86\n",
       "10    7.7      85\n",
       "8     8.3      81\n",
       "23    6.9      76\n",
       "3     8.5      75\n",
       "19    7.4      69\n",
       "18    6.1      67\n",
       "11    5.9      62\n",
       "7     5.5      60\n",
       "21    4.8      54\n",
       "1     5.1      47\n",
       "13    3.3      42\n",
       "12    4.5      41\n",
       "22    3.8      35\n",
       "16    2.5      30\n",
       "20    2.7      30\n",
       "4     3.5      30\n",
       "2     3.2      27\n",
       "9     2.7      25\n",
       "17    1.9      24\n",
       "0     2.5      21\n",
       "5     1.5      20\n",
       "14    1.1      17"
      ]
     },
     "execution_count": 3,
     "metadata": {},
     "output_type": "execute_result"
    }
   ],
   "source": [
    "# If we were to look at the scores in descending order, we can \n",
    "# notice that there is a proportionate relationship between it and\n",
    "# the Hours studied.\n",
    "\n",
    "dataFrame.sort_values(by = \"Scores\", ascending = False)"
   ]
  },
  {
   "cell_type": "code",
   "execution_count": 4,
   "metadata": {
    "scrolled": true
   },
   "outputs": [
    {
     "data": {
      "image/png": "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\n",
      "text/plain": [
       "<Figure size 432x288 with 1 Axes>"
      ]
     },
     "metadata": {
      "needs_background": "light"
     },
     "output_type": "display_data"
    }
   ],
   "source": [
    "# If were to plot it, we can visualize it more effectively\n",
    "\n",
    "dataFrame.plot(x = 'Hours', y = 'Scores', style = 'o')\n",
    "plt.title('Hours vs Percentage')\n",
    "plt.xlabel('Hours')\n",
    "plt.ylabel('Percentage')\n",
    "plt.show()\n",
    "\n",
    "# This shows the positive linear relationship between the two"
   ]
  },
  {
   "cell_type": "code",
   "execution_count": 5,
   "metadata": {},
   "outputs": [],
   "source": [
    "# Preparing the data\n",
    "\n",
    "X = dataFrame.iloc[:, :-1].values  \n",
    "y = dataFrame.iloc[:, 1].values \n",
    "\n",
    "from sklearn.model_selection import train_test_split  \n",
    "X_train, X_test, y_train, y_test = train_test_split(X, y, \n",
    "                            test_size=0.2, random_state=0) "
   ]
  },
  {
   "cell_type": "code",
   "execution_count": 6,
   "metadata": {},
   "outputs": [
    {
     "name": "stdout",
     "output_type": "stream",
     "text": [
      "Training complete.\n"
     ]
    }
   ],
   "source": [
    "# Training\n",
    "\n",
    "from sklearn.linear_model import LinearRegression  \n",
    "regressor = LinearRegression()  \n",
    "regressor.fit(X_train, y_train) \n",
    "\n",
    "print(\"Training complete.\")"
   ]
  },
  {
   "cell_type": "code",
   "execution_count": 7,
   "metadata": {},
   "outputs": [
    {
     "data": {
      "image/png": "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\n",
      "text/plain": [
       "<Figure size 432x288 with 1 Axes>"
      ]
     },
     "metadata": {
      "needs_background": "light"
     },
     "output_type": "display_data"
    }
   ],
   "source": [
    "# Plotting the regression line\n",
    "line = regressor.coef_*X+regressor.intercept_\n",
    "\n",
    "# Plotting for the test data\n",
    "plt.scatter(X, y)\n",
    "plt.plot(X, line);\n",
    "plt.show()"
   ]
  },
  {
   "cell_type": "code",
   "execution_count": 8,
   "metadata": {
    "scrolled": true
   },
   "outputs": [
    {
     "data": {
      "text/html": [
       "<div>\n",
       "<style scoped>\n",
       "    .dataframe tbody tr th:only-of-type {\n",
       "        vertical-align: middle;\n",
       "    }\n",
       "\n",
       "    .dataframe tbody tr th {\n",
       "        vertical-align: top;\n",
       "    }\n",
       "\n",
       "    .dataframe thead th {\n",
       "        text-align: right;\n",
       "    }\n",
       "</style>\n",
       "<table border=\"1\" class=\"dataframe\">\n",
       "  <thead>\n",
       "    <tr style=\"text-align: right;\">\n",
       "      <th></th>\n",
       "      <th>Actual</th>\n",
       "      <th>Predicted</th>\n",
       "    </tr>\n",
       "  </thead>\n",
       "  <tbody>\n",
       "    <tr>\n",
       "      <th>0</th>\n",
       "      <td>20</td>\n",
       "      <td>16.884145</td>\n",
       "    </tr>\n",
       "    <tr>\n",
       "      <th>1</th>\n",
       "      <td>27</td>\n",
       "      <td>33.732261</td>\n",
       "    </tr>\n",
       "    <tr>\n",
       "      <th>2</th>\n",
       "      <td>69</td>\n",
       "      <td>75.357018</td>\n",
       "    </tr>\n",
       "    <tr>\n",
       "      <th>3</th>\n",
       "      <td>30</td>\n",
       "      <td>26.794801</td>\n",
       "    </tr>\n",
       "    <tr>\n",
       "      <th>4</th>\n",
       "      <td>62</td>\n",
       "      <td>60.491033</td>\n",
       "    </tr>\n",
       "  </tbody>\n",
       "</table>\n",
       "</div>"
      ],
      "text/plain": [
       "   Actual  Predicted\n",
       "0      20  16.884145\n",
       "1      27  33.732261\n",
       "2      69  75.357018\n",
       "3      30  26.794801\n",
       "4      62  60.491033"
      ]
     },
     "execution_count": 8,
     "metadata": {},
     "output_type": "execute_result"
    }
   ],
   "source": [
    "# Testing it\n",
    "\n",
    "y_pred = regressor.predict(X_test)\n",
    "dataFrame = pd.DataFrame({'Actual': y_test, 'Predicted': y_pred})  \n",
    "dataFrame"
   ]
  },
  {
   "cell_type": "code",
   "execution_count": 9,
   "metadata": {},
   "outputs": [
    {
     "name": "stdout",
     "output_type": "stream",
     "text": [
      "Mean Absolute Error: 4.183859899002982\n",
      "Mean Squared Error: 21.598769307217456\n"
     ]
    }
   ],
   "source": [
    "# Evaluating the model\n",
    "\n",
    "from sklearn import metrics  \n",
    "print('Mean Absolute Error:', \n",
    "      metrics.mean_absolute_error(y_test, y_pred)) \n",
    "print('Mean Squared Error:', \n",
    "      metrics.mean_squared_error(y_test, y_pred)) "
   ]
  },
  {
   "cell_type": "code",
   "execution_count": 10,
   "metadata": {},
   "outputs": [
    {
     "name": "stdout",
     "output_type": "stream",
     "text": [
      "Prdecited score = 93.69173248737539\n"
     ]
    }
   ],
   "source": [
    "# Using it for the given Hours\n",
    "\n",
    "hours = [[9.25]]\n",
    "own_pred = regressor.predict(hours)\n",
    "print(\"Prdecited score = {}\".format(own_pred[0]))"
   ]
  }
 ],
 "metadata": {
  "kernelspec": {
   "display_name": "Python 3",
   "language": "python",
   "name": "python3"
  },
  "language_info": {
   "codemirror_mode": {
    "name": "ipython",
    "version": 3
   },
   "file_extension": ".py",
   "mimetype": "text/x-python",
   "name": "python",
   "nbconvert_exporter": "python",
   "pygments_lexer": "ipython3",
   "version": "3.9.1"
  }
 },
 "nbformat": 4,
 "nbformat_minor": 4
}
